{
 "cells": [
  {
   "cell_type": "markdown",
   "metadata": {},
   "source": [
    "Soccer statistics"
   ]
  },
  {
   "cell_type": "code",
   "execution_count": 3,
   "metadata": {},
   "outputs": [],
   "source": [
    "import re"
   ]
  },
  {
   "cell_type": "markdown",
   "metadata": {},
   "source": [
    "FIFA World Cup Records by Country"
   ]
  },
  {
   "cell_type": "code",
   "execution_count": 16,
   "metadata": {},
   "outputs": [
    {
     "name": "stdout",
     "output_type": "stream",
     "text": [
      "2002 Italy,Ecuador,2,0\n",
      "2002 Mexico,Ecuador,2,1\n",
      "2006 Poland,Ecuador,0,2\n",
      "2006 Germany,Ecuador,3,0\n",
      "2006 England,Ecuador,1,0\n",
      "2014 Switzerland,Ecuador,2,1\n",
      "2014 Honduras,Ecuador,1,2\n"
     ]
    }
   ],
   "source": [
    "#2006-06-25,England,Ecuador,1,0,FIFA World Cup,Stuttgart,Germany,TRUE\n",
    "country = 'Ecuador'\n",
    "type_match = 'FIFA World Cup'\n",
    "\n",
    "pattern = re.compile(r'^([\\d]{4,4})\\-\\d\\d-\\d\\d,(.*,'+country+',.*),' + type_match + ',.*$')\n",
    "f = open('./results.csv', encoding=\"utf8\")\n",
    "\n",
    "for line in f:\n",
    "    res = re.match(pattern, line)\n",
    "    if res:\n",
    "        print(res.group(1), res.group(2))\n",
    "\n",
    "f.close()"
   ]
  },
  {
   "cell_type": "markdown",
   "metadata": {},
   "source": [
    "FIFA World Cup Records by Country and total goals scored in a match"
   ]
  },
  {
   "cell_type": "code",
   "execution_count": 31,
   "metadata": {},
   "outputs": [
    {
     "name": "stdout",
     "output_type": "stream",
     "text": [
      "1998 USA,Iran 1 2\n",
      "2006 Mexico,Iran 3 1\n",
      "2014 Bosnia-Herzegovina,Iran 3 1\n"
     ]
    }
   ],
   "source": [
    "#2006-06-25,England,Ecuador,1,0,FIFA World Cup,Stuttgart,Germany,TRUE\n",
    "country = 'Iran'\n",
    "type_match = 'FIFA World Cup'\n",
    "goals_scored = 3\n",
    "\n",
    "pattern = re.compile(r'^([\\d]{4,4})\\-\\d\\d-\\d\\d,(.*,'+country+'),(\\d),(\\d),' + type_match + ',.*$')\n",
    "f = open('./results.csv', encoding=\"utf8\")\n",
    "\n",
    "for line in f:\n",
    "    res = re.match(pattern, line)\n",
    "    if res:\n",
    "        total = int(res.group(3)) + int(res.group(4))\n",
    "        if total >= goals_scored:\n",
    "            print(res.group(1), res.group(2), res.group(3), res.group(4))\n",
    "\n",
    "f.close()"
   ]
  },
  {
   "cell_type": "markdown",
   "metadata": {},
   "source": [
    "Draws in the FIFA World Cup"
   ]
  },
  {
   "cell_type": "code",
   "execution_count": 32,
   "metadata": {},
   "outputs": [
    {
     "name": "stdout",
     "output_type": "stream",
     "text": [
      "1958 Brazil,England\n",
      "1958 Sweden,Wales\n",
      "1962 Germany,Italy\n",
      "1962 Brazil,Czechoslovakia\n",
      "1962 Argentina,Hungary\n",
      "1962 Bulgaria,England\n",
      "1966 England,Uruguay\n",
      "1966 Argentina,Germany\n",
      "1966 Mexico,Uruguay\n",
      "1970 Mexico,Russia\n",
      "1970 Italy,Uruguay\n",
      "1970 Israel,Italy\n",
      "1974 Brazil,Yugoslavia\n",
      "1974 Sweden,Bulgaria\n",
      "1974 Scotland,Brazil\n",
      "1974 Netherlands,Sweden\n",
      "1974 Australia,Chile\n",
      "1978 Germany,Poland\n",
      "1978 Brazil,Spain\n",
      "1978 Netherlands,Peru\n",
      "1978 Germany,Tunisia\n",
      "1978 Germany,Italy\n",
      "1978 Argentina,Brazil\n",
      "1982 Italy,Poland\n",
      "1982 Peru,Cameroon\n",
      "1982 Yugoslavia,Northern Ireland\n",
      "1982 Poland,Cameroon\n",
      "1982 Germany,England\n",
      "1982 Poland,Russia\n",
      "1982 Spain,England\n",
      "1986 Morocco,Poland\n",
      "1986 England,Morocco\n",
      "1986 Scotland,Uruguay\n",
      "1986 Mexico,Germany\n",
      "1990 Uruguay,Spain\n",
      "1990 England,Netherlands\n",
      "1990 Ireland,Egypt\n",
      "1990 Ireland,Romania\n",
      "1990 Yugoslavia,Argentina\n",
      "1994 Korea Republic,Bolivia\n",
      "1994 Ireland,Norway\n",
      "1994 Brazil,Italy\n",
      "1998 Paraguay,Bulgaria\n",
      "1998 Netherlands,Belgium\n",
      "1998 Spain,Paraguay\n",
      "1998 France,Italy\n",
      "2002 France,Uruguay\n",
      "2002 Nigeria,England\n",
      "2002 Korea Republic,Spain\n",
      "2006 Trinidad and Tobago,Sweden\n",
      "2006 France,Switzerland\n",
      "2006 Mexico,Angola\n",
      "2006 Japan,Croatia\n",
      "2006 Netherlands,Argentina\n",
      "2006 Switzerland,Ukraine\n",
      "2006 England,Portugal\n",
      "2010 Uruguay,France\n",
      "2010 Ivory Coast,Portugal\n",
      "2010 England,Algeria\n",
      "2010 Paraguay,New Zealand\n",
      "2010 Portugal,Brazil\n",
      "2010 Switzerland,Honduras\n",
      "2010 Paraguay,Japan\n",
      "2014 Iran,Nigeria\n",
      "2014 Brazil,Mexico\n",
      "2014 Japan,Greece\n",
      "2014 Costa Rica,England\n",
      "2014 Ecuador,France\n",
      "2014 Netherlands,Costa Rica\n",
      "2014 Netherlands,Argentina\n"
     ]
    }
   ],
   "source": [
    "#2006-06-25,England,Ecuador,1,0,FIFA World Cup,Stuttgart,Germany,TRUE\n",
    "type_match = 'FIFA World Cup'\n",
    "\n",
    "pattern = re.compile(r'^([\\d]{4,4})\\-\\d\\d-\\d\\d,(.*),0,0,' + type_match + ',.*$')\n",
    "f = open('./results.csv', encoding=\"utf8\")\n",
    "\n",
    "for line in f:\n",
    "    res = re.match(pattern, line)\n",
    "    if res:\n",
    "        print(res.group(1), res.group(2))\n",
    "\n",
    "f.close()"
   ]
  }
 ],
 "metadata": {
  "kernelspec": {
   "display_name": "Python 3",
   "language": "python",
   "name": "python3"
  },
  "language_info": {
   "codemirror_mode": {
    "name": "ipython",
    "version": 3
   },
   "file_extension": ".py",
   "mimetype": "text/x-python",
   "name": "python",
   "nbconvert_exporter": "python",
   "pygments_lexer": "ipython3",
   "version": "3.11.4"
  },
  "orig_nbformat": 4
 },
 "nbformat": 4,
 "nbformat_minor": 2
}
